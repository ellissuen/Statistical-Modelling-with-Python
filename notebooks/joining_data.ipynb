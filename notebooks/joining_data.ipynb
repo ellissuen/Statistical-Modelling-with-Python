{
 "cells": [
  {
   "cell_type": "markdown",
   "metadata": {},
   "source": [
    "Join the data from Part 1 with the data from Part 2 to create a new dataframe."
   ]
  },
  {
   "cell_type": "code",
   "execution_count": null,
   "metadata": {},
   "outputs": [],
   "source": [
    "# add the 'Bike Stop #' \n",
    "\n",
    "bikes_df['Bike Stop #'] = bikes_df.index\n",
    "\n",
    "# merge the df\n",
    "\n",
    "merged_df = final_foursquare_df.merge(bikes_df, on='Bike Stop #')\n",
    "merged_df"
   ]
  },
  {
   "cell_type": "markdown",
   "metadata": {},
   "source": [
    "Provide a visualization that you used as part of your EDA process. Explain the initial pattern or relationship you discoved through this visualization. "
   ]
  },
  {
   "cell_type": "markdown",
   "metadata": {},
   "source": [
    "I used a pair plot as a inital point of contact during the EDA process. The resulting pair plot can be viewed in files: images > EDA_pairplot.png. There are obvious strong correlations between 'free_bikes', 'empty_slots' and '% used' since they are all related to one another. This however, is not unhelpful information as it confirms that the data extraction process was successful in this limited capacity. The more interesting of the preliminary observations can be seen with the relationship between 'venues_nearby' with all other metrics. \n",
    "\n",
    "This will be at the core of the regression modelling that will be addressed later and may prove some interesting patterns. At a glance there seems to be a slight positive trend between 'free_bikes' + 'venue_nearby' and a slight negative trend between 'empty_slots' + 'venues_nearby'.\n",
    "\n",
    "This qualitatively makes sense as the dataset was pulled around 11pm Barcelona local time. This relationship may show that during the evening, less bikes are used around these venues. These venues tend to be large with much commercial zoning surrounding them - leading to a general decreased use of the bikes during that hour in those zones."
   ]
  },
  {
   "cell_type": "markdown",
   "metadata": {},
   "source": [
    "# Database"
   ]
  },
  {
   "cell_type": "markdown",
   "metadata": {},
   "source": [
    "Put all your results in an SQLite3 database (remember, SQLite stores its databases as files in your local machine - make sure to create your database in your project's data/ directory!)"
   ]
  },
  {
   "cell_type": "code",
   "execution_count": null,
   "metadata": {},
   "outputs": [],
   "source": [
    "import sqlite3"
   ]
  },
  {
   "cell_type": "code",
   "execution_count": null,
   "metadata": {},
   "outputs": [],
   "source": [
    "con = sqlite3.connect('your_database.db')\n",
    "cursor = con.cursor()"
   ]
  },
  {
   "cell_type": "code",
   "execution_count": null,
   "metadata": {},
   "outputs": [],
   "source": [
    "#bikes to SQL\n",
    "\n",
    "bikes_df.to_sql('bikes_df', con, index=False, if_exists='replace')"
   ]
  },
  {
   "cell_type": "code",
   "execution_count": null,
   "metadata": {},
   "outputs": [],
   "source": [
    "# get rid of list to convert to SQL\n",
    "#foursquare to SQL\n",
    "\n",
    "final_foursquare_df['venue_type'] = final_foursquare_df['venue_type'].apply(lambda x: ','.join(map(str, x)) if isinstance(x, list) else x)\n",
    "final_foursquare_df.to_sql('final_foursquare_table', conn, index=False, if_exists='replace')"
   ]
  },
  {
   "cell_type": "code",
   "execution_count": null,
   "metadata": {},
   "outputs": [],
   "source": [
    "# get rid of list to convert to SQL\n",
    "#merged to SQL\n",
    "\n",
    "merged_df['venue_type'] = merged_df['venue_type'].apply(lambda x: ','.join(map(str, x)) if isinstance(x, list) else x)\n",
    "merged_df.to_sql('merged_table', conn, index=False, if_exists='replace')"
   ]
  },
  {
   "cell_type": "markdown",
   "metadata": {},
   "source": [
    "Look at the data before and after the join to validate your data."
   ]
  },
  {
   "cell_type": "code",
   "execution_count": null,
   "metadata": {},
   "outputs": [],
   "source": [
    "#example queries\n",
    "\n",
    "query = 'SELECT * FROM bikes_table'  \n",
    "result = pd.read_sql_query(query, conn)"
   ]
  },
  {
   "cell_type": "code",
   "execution_count": null,
   "metadata": {},
   "outputs": [],
   "source": [
    "#example queries\n",
    "\n",
    "query = '''\n",
    "    SELECT * \n",
    "    FROM bikes_table\n",
    "    JOIN final_foursquare_table\n",
    "    ON bikes_table.index = finalfoursquare_table.'Bike Stop #'\n",
    "    WHERE bikes_table.name IS NOT NULL\n",
    "'''  \n",
    "result = pd.read_sql_query(query, conn)"
   ]
  },
  {
   "cell_type": "markdown",
   "metadata": {},
   "source": [
    "tables were join in SQL and compared to the original df in python. The total number of rows, total number of non-null rows, and some spot checks all matched. The data is validated as being reliable."
   ]
  }
 ],
 "metadata": {
  "kernelspec": {
   "display_name": "Python 3 (ipykernel)",
   "language": "python",
   "name": "python3"
  },
  "language_info": {
   "codemirror_mode": {
    "name": "ipython",
    "version": 3
   },
   "file_extension": ".py",
   "mimetype": "text/x-python",
   "name": "python",
   "nbconvert_exporter": "python",
   "pygments_lexer": "ipython3",
   "version": "3.11.5"
  }
 },
 "nbformat": 4,
 "nbformat_minor": 4
}
