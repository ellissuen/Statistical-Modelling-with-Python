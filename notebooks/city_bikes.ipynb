{
 "cells": [
  {
   "cell_type": "markdown",
   "metadata": {},
   "source": [
    "# CityBikes"
   ]
  },
  {
   "cell_type": "markdown",
   "metadata": {},
   "source": [
    "Send a request to CityBikes for the city of your choice. "
   ]
  },
  {
   "cell_type": "code",
   "execution_count": 1,
   "metadata": {
    "tags": []
   },
   "outputs": [],
   "source": [
    "import pandas as pd\n",
    "import requests"
   ]
  },
  {
   "cell_type": "code",
   "execution_count": 8,
   "metadata": {
    "tags": []
   },
   "outputs": [],
   "source": [
    "# city name 'barcelona' did not work. instead company name 'bicing'\n",
    "company = 'bicing'\n",
    "api_url = f'https://api.citybik.es/v2/networks/{company}'\n",
    "\n",
    "bicing_response = requests.get(api_url)\n",
    "bicing_data = bicing_response.json()"
   ]
  },
  {
   "cell_type": "code",
   "execution_count": null,
   "metadata": {},
   "outputs": [],
   "source": [
    "with open('bikes_output.json', 'w') as json_file:\n",
    "     json.dump(bicing_data, json_file)\n",
    "        \n",
    "# saved to .json file\n",
    "# found in files: data > bikes_output_.json"
   ]
  },
  {
   "cell_type": "code",
   "execution_count": 9,
   "metadata": {
    "tags": []
   },
   "outputs": [
    {
     "data": {
      "text/plain": [
       "200"
      ]
     },
     "execution_count": 9,
     "metadata": {},
     "output_type": "execute_result"
    }
   ],
   "source": [
    "response.status_code"
   ]
  },
  {
   "cell_type": "markdown",
   "metadata": {},
   "source": [
    "Parse through the response to get the details you want for the bike stations in that city (latitude, longitude, number of bikes). "
   ]
  },
  {
   "cell_type": "code",
   "execution_count": 10,
   "metadata": {
    "tags": []
   },
   "outputs": [],
   "source": [
    "# df = pd.DataFrame.from_dict(data) \n",
    "# ^ not working\n",
    "\n",
    "# directly extract relevant information\n",
    "network_info = bicing_data.get('network', {})\n",
    "stations = network_info.get('stations', [])"
   ]
  },
  {
   "cell_type": "markdown",
   "metadata": {},
   "source": [
    "Put your parsed results into a DataFrame."
   ]
  },
  {
   "cell_type": "code",
   "execution_count": 11,
   "metadata": {
    "tags": []
   },
   "outputs": [
    {
     "data": {
      "text/html": [
       "<div>\n",
       "<style scoped>\n",
       "    .dataframe tbody tr th:only-of-type {\n",
       "        vertical-align: middle;\n",
       "    }\n",
       "\n",
       "    .dataframe tbody tr th {\n",
       "        vertical-align: top;\n",
       "    }\n",
       "\n",
       "    .dataframe thead th {\n",
       "        text-align: right;\n",
       "    }\n",
       "</style>\n",
       "<table border=\"1\" class=\"dataframe\">\n",
       "  <thead>\n",
       "    <tr style=\"text-align: right;\">\n",
       "      <th></th>\n",
       "      <th>name</th>\n",
       "      <th>latitude</th>\n",
       "      <th>longitude</th>\n",
       "      <th>free_bikes</th>\n",
       "      <th>empty_slots</th>\n",
       "    </tr>\n",
       "  </thead>\n",
       "  <tbody>\n",
       "    <tr>\n",
       "      <th>0</th>\n",
       "      <td>C/ CARDENAL TEDESCHINI, 13</td>\n",
       "      <td>41.425364</td>\n",
       "      <td>2.185207</td>\n",
       "      <td>14</td>\n",
       "      <td>18</td>\n",
       "    </tr>\n",
       "    <tr>\n",
       "      <th>1</th>\n",
       "      <td>RAMBLA DE L'ONZE DE SETEMBRE, 69</td>\n",
       "      <td>41.430000</td>\n",
       "      <td>2.190246</td>\n",
       "      <td>19</td>\n",
       "      <td>6</td>\n",
       "    </tr>\n",
       "    <tr>\n",
       "      <th>2</th>\n",
       "      <td>PG. TORRAS I BAGES, 129</td>\n",
       "      <td>41.443365</td>\n",
       "      <td>2.190630</td>\n",
       "      <td>6</td>\n",
       "      <td>18</td>\n",
       "    </tr>\n",
       "    <tr>\n",
       "      <th>3</th>\n",
       "      <td>C/ SANT OLEGUER, 2</td>\n",
       "      <td>41.377532</td>\n",
       "      <td>2.170732</td>\n",
       "      <td>15</td>\n",
       "      <td>3</td>\n",
       "    </tr>\n",
       "    <tr>\n",
       "      <th>4</th>\n",
       "      <td>AV. PARAL.LEL, 194</td>\n",
       "      <td>41.375116</td>\n",
       "      <td>2.152309</td>\n",
       "      <td>15</td>\n",
       "      <td>9</td>\n",
       "    </tr>\n",
       "    <tr>\n",
       "      <th>...</th>\n",
       "      <td>...</td>\n",
       "      <td>...</td>\n",
       "      <td>...</td>\n",
       "      <td>...</td>\n",
       "      <td>...</td>\n",
       "    </tr>\n",
       "    <tr>\n",
       "      <th>501</th>\n",
       "      <td>C / INDÚSTRIA, 10</td>\n",
       "      <td>41.402208</td>\n",
       "      <td>2.164903</td>\n",
       "      <td>8</td>\n",
       "      <td>12</td>\n",
       "    </tr>\n",
       "    <tr>\n",
       "      <th>502</th>\n",
       "      <td>C/ TURÓ BLAU, 1-3</td>\n",
       "      <td>41.438822</td>\n",
       "      <td>2.176783</td>\n",
       "      <td>5</td>\n",
       "      <td>18</td>\n",
       "    </tr>\n",
       "    <tr>\n",
       "      <th>503</th>\n",
       "      <td>C/ D'ALACANT, 12</td>\n",
       "      <td>41.400078</td>\n",
       "      <td>2.132691</td>\n",
       "      <td>5</td>\n",
       "      <td>18</td>\n",
       "    </tr>\n",
       "    <tr>\n",
       "      <th>504</th>\n",
       "      <td>C/ ALFAMBRA, 2 | AV. DIAGONAL</td>\n",
       "      <td>41.385641</td>\n",
       "      <td>2.113096</td>\n",
       "      <td>1</td>\n",
       "      <td>22</td>\n",
       "    </tr>\n",
       "    <tr>\n",
       "      <th>505</th>\n",
       "      <td>C/ SANT ANTONI MARIA CLARET, 214</td>\n",
       "      <td>41.410844</td>\n",
       "      <td>2.174057</td>\n",
       "      <td>16</td>\n",
       "      <td>4</td>\n",
       "    </tr>\n",
       "  </tbody>\n",
       "</table>\n",
       "<p>506 rows × 5 columns</p>\n",
       "</div>"
      ],
      "text/plain": [
       "                                 name   latitude  longitude  free_bikes  \\\n",
       "0          C/ CARDENAL TEDESCHINI, 13  41.425364   2.185207          14   \n",
       "1    RAMBLA DE L'ONZE DE SETEMBRE, 69  41.430000   2.190246          19   \n",
       "2             PG. TORRAS I BAGES, 129  41.443365   2.190630           6   \n",
       "3                  C/ SANT OLEGUER, 2  41.377532   2.170732          15   \n",
       "4                  AV. PARAL.LEL, 194  41.375116   2.152309          15   \n",
       "..                                ...        ...        ...         ...   \n",
       "501                 C / INDÚSTRIA, 10  41.402208   2.164903           8   \n",
       "502                 C/ TURÓ BLAU, 1-3  41.438822   2.176783           5   \n",
       "503                  C/ D'ALACANT, 12  41.400078   2.132691           5   \n",
       "504     C/ ALFAMBRA, 2 | AV. DIAGONAL  41.385641   2.113096           1   \n",
       "505  C/ SANT ANTONI MARIA CLARET, 214  41.410844   2.174057          16   \n",
       "\n",
       "     empty_slots  \n",
       "0             18  \n",
       "1              6  \n",
       "2             18  \n",
       "3              3  \n",
       "4              9  \n",
       "..           ...  \n",
       "501           12  \n",
       "502           18  \n",
       "503           18  \n",
       "504           22  \n",
       "505            4  \n",
       "\n",
       "[506 rows x 5 columns]"
      ]
     },
     "execution_count": 11,
     "metadata": {},
     "output_type": "execute_result"
    }
   ],
   "source": [
    "bikes_df = pd.DataFrame(stations, columns=['name', 'latitude', 'longitude', 'free_bikes', 'empty_slots'])\n",
    "bikes_df"
   ]
  },
  {
   "cell_type": "code",
   "execution_count": null,
   "metadata": {},
   "outputs": [],
   "source": []
  }
 ],
 "metadata": {
  "kernelspec": {
   "display_name": "Python 3 (ipykernel)",
   "language": "python",
   "name": "python3"
  },
  "language_info": {
   "codemirror_mode": {
    "name": "ipython",
    "version": 3
   },
   "file_extension": ".py",
   "mimetype": "text/x-python",
   "name": "python",
   "nbconvert_exporter": "python",
   "pygments_lexer": "ipython3",
   "version": "3.11.5"
  }
 },
 "nbformat": 4,
 "nbformat_minor": 4
}
