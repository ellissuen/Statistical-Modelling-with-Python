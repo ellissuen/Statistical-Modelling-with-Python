{
 "cells": [
  {
   "cell_type": "markdown",
   "metadata": {},
   "source": [
    "# CityBikes"
   ]
  },
  {
   "cell_type": "markdown",
   "metadata": {},
   "source": [
    "Send a request to CityBikes for the city of your choice. "
   ]
  },
  {
   "cell_type": "code",
   "execution_count": 1,
   "metadata": {
    "tags": []
   },
   "outputs": [],
   "source": [
    "import pandas as pd\n",
    "import requests"
   ]
  },
  {
   "cell_type": "code",
   "execution_count": null,
   "metadata": {
    "tags": []
   },
   "outputs": [],
   "source": [
    "# city name 'barcelona' did not work. instead company name 'bicing'\n",
    "company = 'bicing'\n",
    "api_url = f'https://api.citybik.es/v2/networks/{company}'\n",
    "\n",
    "response = requests.get(api_url)\n",
    "data = response.json()"
   ]
  },
  {
   "cell_type": "code",
   "execution_count": 6,
   "metadata": {
    "tags": []
   },
   "outputs": [
    {
     "data": {
      "text/plain": [
       "200"
      ]
     },
     "execution_count": 6,
     "metadata": {},
     "output_type": "execute_result"
    }
   ],
   "source": [
    "response.status_code"
   ]
  },
  {
   "cell_type": "markdown",
   "metadata": {},
   "source": [
    "Parse through the response to get the details you want for the bike stations in that city (latitude, longitude, number of bikes). "
   ]
  },
  {
   "cell_type": "code",
   "execution_count": 4,
   "metadata": {
    "tags": []
   },
   "outputs": [],
   "source": [
    "# df = pd.DataFrame.from_dict(data) \n",
    "# ^ not working\n",
    "\n",
    "# directly extract relevant information\n",
    "network_info = data.get('network', {})\n",
    "stations = network_info.get('stations', [])"
   ]
  },
  {
   "cell_type": "markdown",
   "metadata": {},
   "source": [
    "Put your parsed results into a DataFrame."
   ]
  },
  {
   "cell_type": "code",
   "execution_count": 5,
   "metadata": {
    "tags": []
   },
   "outputs": [
    {
     "data": {
      "text/html": [
       "<div>\n",
       "<style scoped>\n",
       "    .dataframe tbody tr th:only-of-type {\n",
       "        vertical-align: middle;\n",
       "    }\n",
       "\n",
       "    .dataframe tbody tr th {\n",
       "        vertical-align: top;\n",
       "    }\n",
       "\n",
       "    .dataframe thead th {\n",
       "        text-align: right;\n",
       "    }\n",
       "</style>\n",
       "<table border=\"1\" class=\"dataframe\">\n",
       "  <thead>\n",
       "    <tr style=\"text-align: right;\">\n",
       "      <th></th>\n",
       "      <th>name</th>\n",
       "      <th>longitude</th>\n",
       "      <th>latitude</th>\n",
       "      <th>free_bikes</th>\n",
       "      <th>empty_slots</th>\n",
       "    </tr>\n",
       "  </thead>\n",
       "  <tbody>\n",
       "    <tr>\n",
       "      <th>0</th>\n",
       "      <td>C/ CARDENAL TEDESCHINI, 13</td>\n",
       "      <td>2.185207</td>\n",
       "      <td>41.425364</td>\n",
       "      <td>4</td>\n",
       "      <td>28</td>\n",
       "    </tr>\n",
       "    <tr>\n",
       "      <th>1</th>\n",
       "      <td>RAMBLA DE L'ONZE DE SETEMBRE, 69</td>\n",
       "      <td>2.190246</td>\n",
       "      <td>41.430000</td>\n",
       "      <td>8</td>\n",
       "      <td>17</td>\n",
       "    </tr>\n",
       "    <tr>\n",
       "      <th>2</th>\n",
       "      <td>PG. TORRAS I BAGES, 129</td>\n",
       "      <td>2.190630</td>\n",
       "      <td>41.443365</td>\n",
       "      <td>6</td>\n",
       "      <td>18</td>\n",
       "    </tr>\n",
       "    <tr>\n",
       "      <th>3</th>\n",
       "      <td>C/ SANT OLEGUER, 2</td>\n",
       "      <td>2.170732</td>\n",
       "      <td>41.377532</td>\n",
       "      <td>10</td>\n",
       "      <td>8</td>\n",
       "    </tr>\n",
       "    <tr>\n",
       "      <th>4</th>\n",
       "      <td>AV. PARAL.LEL, 194</td>\n",
       "      <td>2.152309</td>\n",
       "      <td>41.375116</td>\n",
       "      <td>21</td>\n",
       "      <td>3</td>\n",
       "    </tr>\n",
       "    <tr>\n",
       "      <th>...</th>\n",
       "      <td>...</td>\n",
       "      <td>...</td>\n",
       "      <td>...</td>\n",
       "      <td>...</td>\n",
       "      <td>...</td>\n",
       "    </tr>\n",
       "    <tr>\n",
       "      <th>502</th>\n",
       "      <td>C/ VILÀ I VILÀ, 45</td>\n",
       "      <td>2.170955</td>\n",
       "      <td>41.373386</td>\n",
       "      <td>21</td>\n",
       "      <td>1</td>\n",
       "    </tr>\n",
       "    <tr>\n",
       "      <th>503</th>\n",
       "      <td>C/REPÚBLICA DOMINICANA,25(CENTRE COMERCIAL)</td>\n",
       "      <td>2.197069</td>\n",
       "      <td>41.439929</td>\n",
       "      <td>19</td>\n",
       "      <td>13</td>\n",
       "    </tr>\n",
       "    <tr>\n",
       "      <th>504</th>\n",
       "      <td>PG. ZONA FRANCA, 9</td>\n",
       "      <td>2.145096</td>\n",
       "      <td>41.351324</td>\n",
       "      <td>30</td>\n",
       "      <td>6</td>\n",
       "    </tr>\n",
       "    <tr>\n",
       "      <th>505</th>\n",
       "      <td>C / INDÚSTRIA, 10</td>\n",
       "      <td>2.164903</td>\n",
       "      <td>41.402208</td>\n",
       "      <td>20</td>\n",
       "      <td>0</td>\n",
       "    </tr>\n",
       "    <tr>\n",
       "      <th>506</th>\n",
       "      <td>C/ TURÓ BLAU, 1-3</td>\n",
       "      <td>2.176783</td>\n",
       "      <td>41.438822</td>\n",
       "      <td>2</td>\n",
       "      <td>21</td>\n",
       "    </tr>\n",
       "  </tbody>\n",
       "</table>\n",
       "<p>507 rows × 5 columns</p>\n",
       "</div>"
      ],
      "text/plain": [
       "                                            name  longitude   latitude  \\\n",
       "0                     C/ CARDENAL TEDESCHINI, 13   2.185207  41.425364   \n",
       "1               RAMBLA DE L'ONZE DE SETEMBRE, 69   2.190246  41.430000   \n",
       "2                        PG. TORRAS I BAGES, 129   2.190630  41.443365   \n",
       "3                             C/ SANT OLEGUER, 2   2.170732  41.377532   \n",
       "4                             AV. PARAL.LEL, 194   2.152309  41.375116   \n",
       "..                                           ...        ...        ...   \n",
       "502                           C/ VILÀ I VILÀ, 45   2.170955  41.373386   \n",
       "503  C/REPÚBLICA DOMINICANA,25(CENTRE COMERCIAL)   2.197069  41.439929   \n",
       "504                           PG. ZONA FRANCA, 9   2.145096  41.351324   \n",
       "505                            C / INDÚSTRIA, 10   2.164903  41.402208   \n",
       "506                            C/ TURÓ BLAU, 1-3   2.176783  41.438822   \n",
       "\n",
       "     free_bikes  empty_slots  \n",
       "0             4           28  \n",
       "1             8           17  \n",
       "2             6           18  \n",
       "3            10            8  \n",
       "4            21            3  \n",
       "..          ...          ...  \n",
       "502          21            1  \n",
       "503          19           13  \n",
       "504          30            6  \n",
       "505          20            0  \n",
       "506           2           21  \n",
       "\n",
       "[507 rows x 5 columns]"
      ]
     },
     "execution_count": 5,
     "metadata": {},
     "output_type": "execute_result"
    }
   ],
   "source": [
    "bikes_df = pd.DataFrame(stations, columns=['name', 'longitude', 'latitude', 'free_bikes', 'empty_slots'])\n",
    "bikes_df"
   ]
  },
  {
   "cell_type": "code",
   "execution_count": null,
   "metadata": {},
   "outputs": [],
   "source": []
  }
 ],
 "metadata": {
  "kernelspec": {
   "display_name": "Python 3 (ipykernel)",
   "language": "python",
   "name": "python3"
  },
  "language_info": {
   "codemirror_mode": {
    "name": "ipython",
    "version": 3
   },
   "file_extension": ".py",
   "mimetype": "text/x-python",
   "name": "python",
   "nbconvert_exporter": "python",
   "pygments_lexer": "ipython3",
   "version": "3.11.5"
  }
 },
 "nbformat": 4,
 "nbformat_minor": 4
}
