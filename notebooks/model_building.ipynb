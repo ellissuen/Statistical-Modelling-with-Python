{
 "cells": [
  {
   "cell_type": "markdown",
   "metadata": {},
   "source": [
    "Build a regression model.\n",
    "\n",
    "Provide model output and an interpretation of the results. "
   ]
  },
  {
   "cell_type": "code",
   "execution_count": null,
   "metadata": {},
   "outputs": [],
   "source": [
    "import statsmodels.api as sm"
   ]
  },
  {
   "cell_type": "code",
   "execution_count": null,
   "metadata": {},
   "outputs": [],
   "source": [
    "X = (df_1['venues_nearby'])\n",
    "y = pd.Series(df_1['% used'])"
   ]
  },
  {
   "cell_type": "code",
   "execution_count": null,
   "metadata": {},
   "outputs": [],
   "source": [
    "X = sm.add_constant(X) # adding a constant\n",
    "lin_reg = sm.OLS(y,X['venues_nearby'])"
   ]
  },
  {
   "cell_type": "code",
   "execution_count": null,
   "metadata": {},
   "outputs": [],
   "source": [
    "model = lin_reg.fit()\n",
    "print_model = model.summary()\n",
    "print(print_model)"
   ]
  },
  {
   "cell_type": "markdown",
   "metadata": {},
   "source": [
    "results can be found in: \n",
    "file: images > OLS_regression_results.png"
   ]
  },
  {
   "cell_type": "markdown",
   "metadata": {},
   "source": [
    "R squared - The coefficient of determination. This predicts that 57.1% of the variability of the '% used' bikes can be explained by the 'venue_nearby' variable."
   ]
  },
  {
   "cell_type": "markdown",
   "metadata": {},
   "source": [
    "Coefficents. The coefficient for 'venues_nearby' is -/1684 suggesting that estimated change in the dependant variable ('% used') for even 1 unit change in the independant variable ('venues_nearby')"
   ]
  },
  {
   "cell_type": "markdown",
   "metadata": {},
   "source": [
    "P-value. The pvalue is much less than 0.05. This indicated that the coefficient is statistically signiticant"
   ]
  },
  {
   "cell_type": "markdown",
   "metadata": {},
   "source": [
    "Prop (F-statistic). This small pvalue also indicates that the overall model is significant since it is less than 0.05"
   ]
  },
  {
   "cell_type": "markdown",
   "metadata": {},
   "source": [
    "Overall, this regression model provides confidence that the number of venues does have a effect on the percentage of bikes being used. As the number of venues increase by 1, there is a 0.1684 increase of the percent of bikes used at the surrounding bike stops (within 200meters) as well. This correlation is statistically significant though does not prove causation as there may be underlying factors that ultimately cause this relationship."
   ]
  },
  {
   "cell_type": "markdown",
   "metadata": {},
   "source": [
    "# Stretch"
   ]
  },
  {
   "cell_type": "markdown",
   "metadata": {},
   "source": [
    "How can you turn the regression model into a classification model?"
   ]
  },
  {
   "cell_type": "markdown",
   "metadata": {},
   "source": [
    "The hypothesis being test could be changed to whether or not the number of venues would increase or decrease the amount of bikes being used. In that way, the regressions model question tested above would be changed into a classification model. \n"
   ]
  }
 ],
 "metadata": {
  "kernelspec": {
   "display_name": "Python 3 (ipykernel)",
   "language": "python",
   "name": "python3"
  },
  "language_info": {
   "codemirror_mode": {
    "name": "ipython",
    "version": 3
   },
   "file_extension": ".py",
   "mimetype": "text/x-python",
   "name": "python",
   "nbconvert_exporter": "python",
   "pygments_lexer": "ipython3",
   "version": "3.11.5"
  }
 },
 "nbformat": 4,
 "nbformat_minor": 4
}
