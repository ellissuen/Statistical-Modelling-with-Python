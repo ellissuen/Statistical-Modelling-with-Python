{
 "cells": [
  {
   "cell_type": "code",
   "execution_count": null,
   "metadata": {},
   "outputs": [],
   "source": [
    "# imports"
   ]
  },
  {
   "cell_type": "markdown",
   "metadata": {},
   "source": [
    "# Foursquare"
   ]
  },
  {
   "cell_type": "code",
   "execution_count": null,
   "metadata": {},
   "outputs": [],
   "source": [
    "#importing libraries\n",
    "\n",
    "import requests\n",
    "import pandas as pd\n",
    "from pandas import json_normalize"
   ]
  },
  {
   "cell_type": "code",
   "execution_count": null,
   "metadata": {},
   "outputs": [],
   "source": [
    "# bike data was converted into a dictionary\n",
    "bikes_coordinates_dict = {}\n",
    "\n",
    "for index, row in bikes_df.iterrows():\n",
    "    lat, lon = (row['latitude'], row['longitude'])\n",
    "    bike_stop = {index + 1:{'index': index + 1, 'coordinates': (lat,lon)}}\n",
    "    bikes_coordinates_dict.update(bike_stop)"
   ]
  },
  {
   "cell_type": "markdown",
   "metadata": {},
   "source": [
    "Send a request to Foursquare with a small radius (1000m) for all the bike stations in your city of choice. "
   ]
  },
  {
   "cell_type": "code",
   "execution_count": 1,
   "metadata": {},
   "outputs": [],
   "source": [
    "# 200 meter was chosen due to the closeness of the bike stops. \n",
    "# Many bikes stops were 300 - 500 meters away from a neighbouring stop.\n",
    "\n",
    "foursquare_responses = []\n",
    "\n",
    "for bike_stop in bikes_coordinates_dict.values():\n",
    "    index = bike_stop['index']\n",
    "    lat, lon = bike_stop['coordinates']\n",
    "    url = f\"https://api.foursquare.com/v3/places/search?query=museum&ll={lat},{lon}&radius=200\"\n",
    "\n",
    "    headers = {\n",
    "        \"accept\": \"application/json\",\n",
    "        \"Authorization\": open('C:/users/ellis/Lighthouse Labs/Lighthouse Tests +Projects/Statistical Modelling with Python/FoursquareApiKey.txt').readlines()[0].strip()\n",
    "    }\n",
    "\n",
    "    foursquare_response = requests.get(url, headers=headers)\n",
    "    foursquare_responses.append({'index': index, \"data\": foursquare_response.json()})"
   ]
  },
  {
   "cell_type": "code",
   "execution_count": null,
   "metadata": {},
   "outputs": [],
   "source": [
    "# and saved to .json file (available in file: data > foursquare_output.json\n",
    "\n",
    "import json\n",
    "with open('foursquare_output.json', 'w') as json_file:\n",
    "    json.dump(foursquare_responses, json_file)"
   ]
  },
  {
   "cell_type": "markdown",
   "metadata": {},
   "source": [
    "Parse through the response to get the POI (such as restaurants, bars, etc) details you want (ratings, name, location, etc)\n",
    "\n",
    "Put your parsed results into a DataFrame."
   ]
  },
  {
   "cell_type": "code",
   "execution_count": null,
   "metadata": {},
   "outputs": [],
   "source": [
    "foursquare_df = pd.DataFrame()\n",
    "\n",
    "#iterate through to create dataframe\n",
    "for response in foursquare_responses:\n",
    "    data = response['data']['results']\n",
    "    \n",
    "    #keep bike stations that do not have any nearby museums\n",
    "    if not data:\n",
    "        row = {'Bike Stop #': response['index'], 'fsq_id': None, 'name': None, 'categories': None, 'distance': None}\n",
    "        row_df = pd.DataFrame([row])\n",
    "        foursquare_df = pd.concat([foursquare_df, row_df], ignore_index=True)\n",
    "    else:\n",
    "        normalized_data = pd.json_normalize(data)\n",
    "    \n",
    "        bike_stop_index = response['index']\n",
    "        normalized_data['Bike Stop #'] = bike_stop_index\n",
    "    \n",
    "        foursquare_df = pd.concat([foursquare_df, normalized_data], ignore_index=True)"
   ]
  },
  {
   "cell_type": "code",
   "execution_count": null,
   "metadata": {},
   "outputs": [],
   "source": [
    "# parsing and cleaning columns. Mostly only require names and distance from a bike station\n",
    "\n",
    "foursquare_df_cleaning = foursquare_df.drop(columns=['fsq_id'] + list(foursquare_df.columns[5:]))\n",
    "foursquare_df_cleaning['venue_type'] = foursquare_df_cleaning['categories'].apply(lambda x: [y['name'] for y in x][0] if x is not None else [])\n",
    "final_foursquare_df = foursquare_df_cleaning.drop(columns=['categories'])\n",
    "\n",
    "#resulting dataframe example can be found in file: images > foursquare_df_examples.png"
   ]
  },
  {
   "cell_type": "markdown",
   "metadata": {},
   "source": [
    "# Yelp"
   ]
  },
  {
   "cell_type": "code",
   "execution_count": null,
   "metadata": {},
   "outputs": [],
   "source": [
    "# as seen above\n",
    "\n",
    "import requests\n",
    "import pandas as pd\n",
    "from pandas import json_normalize"
   ]
  },
  {
   "cell_type": "code",
   "execution_count": null,
   "metadata": {},
   "outputs": [],
   "source": [
    "bikes_coordinates_dict = {}\n",
    "\n",
    "for index, row in bikes_df.iterrows():\n",
    "    lat, lon = (row['latitude'], row['longitude'])\n",
    "    bike_stop = {index + 1:{'index': index + 1, 'coordinates': (lat,lon)}}\n",
    "    bikes_coordinates_dict.update(bike_stop)"
   ]
  },
  {
   "cell_type": "markdown",
   "metadata": {},
   "source": [
    "Send a request to Yelp with a small radius (1000m) for all the bike stations in your city of choice. "
   ]
  },
  {
   "cell_type": "code",
   "execution_count": null,
   "metadata": {},
   "outputs": [],
   "source": [
    "# 200 meter was chosen due to the closeness of the bike stops as before \n",
    "\n",
    "import requests\n",
    "\n",
    "yelp_responses = []\n",
    "\n",
    "for bike_stop in bikes_coordinates_dict.values():\n",
    "    index = bike_stop['index']\n",
    "    lat, lon = bike_stop['coordinates']\n",
    "\n",
    "    url = f\"https://api.yelp.com/v3/businesses/search\"\n",
    "    \n",
    "    headers = {\n",
    "        'accept': 'application/json',\n",
    "        'Authorization': 'Bearer ' + open('C:/users/ellis/Lighthouse Labs/Lighthouse Tests +Projects/Statistical Modelling with Python/YelpApiKey.txt').readlines()[0].strip()\n",
    "    }\n",
    "\n",
    "    params = {\n",
    "        'latitude': lat,\n",
    "        'longitude': lon,\n",
    "        'term': 'museum',\n",
    "        'radius': 200\n",
    "    }\n",
    "\n",
    "    yelp_response = requests.get(url, headers=headers, params=params)\n",
    "    \n",
    "    yelp_responses.append({'index': index, \"data\": yelp_response.json()})"
   ]
  },
  {
   "cell_type": "code",
   "execution_count": null,
   "metadata": {},
   "outputs": [],
   "source": [
    "# saved to a .json file for potential future use. Found in file: data > yelp_output.json\n",
    "\n",
    "with open('yelp_output.json', 'w') as json_file:\n",
    "     json.dump(yelp_responses, json_file)"
   ]
  },
  {
   "cell_type": "markdown",
   "metadata": {},
   "source": [
    "Parse through the response to get the POI (such as restaurants, bars, etc) details you want (ratings, name, location, etc)\n",
    "\n",
    "Put your parsed results into a DataFrame"
   ]
  },
  {
   "cell_type": "code",
   "execution_count": null,
   "metadata": {},
   "outputs": [],
   "source": [
    "yelp_df = pd.DataFrame()\n",
    "\n",
    "# convert to dataframe first\n",
    "\n",
    "for response in yelp_responses:\n",
    "    data = response['data']\n",
    "    \n",
    "    #keep bike stations that do not have results and set to none\n",
    "    \n",
    "    if 'businesses' not in data or not data['businesses']:\n",
    "        # Handle the case when there are no businesses or 'businesses' is not present\n",
    "        row = {'Bike Stop #': response['index'], 'fsq_id': None, 'name': None, 'categories': None, 'distance': None}\n",
    "        row_df = pd.DataFrame([row])\n",
    "        yelp_df = pd.concat([yelp_df, row_df], ignore_index=True)\n",
    "    else:\n",
    "        normalized_data = pd.json_normalize(data['businesses'])\n",
    "    \n",
    "        bike_stop_index = response['index']\n",
    "        normalized_data['Bike Stop #'] = bike_stop_index\n",
    "    \n",
    "        yelp_df = pd.concat([yelp_df, normalized_data], ignore_index=True)"
   ]
  },
  {
   "cell_type": "code",
   "execution_count": null,
   "metadata": {},
   "outputs": [],
   "source": [
    "# cleaning and parsing dataframe for use in analysis\n",
    "# only distance to bike station and name of venues are important for my anaylsis\n",
    "\n",
    "yelp_df_cleaning = yelp_df.drop(columns=['fsq_id', 'price'] + list(yelp_df.columns[5:24]))\n",
    "yelp_df_cleaning2 = yelp_df_cleaning.copy()\n",
    "yelp_df_cleaning2['venue_type'] = yelp_df_cleaning['categories'].apply(lambda x: [y['title'] for y in x][0] if x is not None else [])\n",
    "\n",
    "final_yelp_df = yelp_df_cleaning2.drop(columns = 'categories')\n",
    "\n",
    "# example of resulting dataframe can be found in file: images > yelp_df_examples.png"
   ]
  },
  {
   "cell_type": "markdown",
   "metadata": {},
   "source": [
    "# Comparing Results"
   ]
  },
  {
   "cell_type": "markdown",
   "metadata": {},
   "source": [
    "Which API provided you with more complete data? Provide an explanation. "
   ]
  },
  {
   "cell_type": "markdown",
   "metadata": {},
   "source": [
    "The Foursquare API provided more complete data compared the the Yelp API. Though the Yelp API had ratings, since my query relates to the proximity of these venues to the usage of bikes in Barcelona, the Yelp API did not provide any benefit. However, the foursquare API returned more results. When searching up with the \"query\" word of \"museums\", it returned a larger range of results ranging from art galleries, to concert halls, to monuments and planetariums. Comparatively, Yelp only returned a more limited subset of \"museums\" including art galleries, landmarks and museums. For future considerations, an expanded budget, and more time, I may be able to query more key words in my API requests to receive a boarder and potentially more full subset of venues that would be relevant to my research question. "
   ]
  },
  {
   "cell_type": "markdown",
   "metadata": {},
   "source": [
    "Get the top 10 restaurants according to their rating"
   ]
  },
  {
   "cell_type": "code",
   "execution_count": null,
   "metadata": {},
   "outputs": [],
   "source": [
    "# I was not expecting to need to do restaurants so I ran out of API requests\n",
    "# theoretically, this would allow me to sort by ratings though\n",
    "\n",
    "import requests\n",
    "\n",
    "yelp_restaurants = []\n",
    "\n",
    "for bike_stop in bikes_coordinates_dict.values():\n",
    "    index = bike_stop['index']\n",
    "    lat, lon = bike_stop['coordinates']\n",
    "\n",
    "    url = f\"https://api.yelp.com/v3/businesses/search\"\n",
    "    \n",
    "    headers = {\n",
    "        'accept': 'application/json',\n",
    "        'Authorization': 'Bearer ' + open('C:/users/ellis/Lighthouse Labs/Lighthouse Tests +Projects/Statistical Modelling with Python/YelpApiKey.txt').readlines()[0].strip()\n",
    "    }\n",
    "\n",
    "    params = {\n",
    "        'latitude': lat,\n",
    "        'longitude': lon,\n",
    "        'term': 'restaurants',\n",
    "        'radius': 200\n",
    "    }\n",
    "\n",
    "    yelp_restaurants = requests.get(url, headers=headers, params=params)\n",
    "    \n",
    "    yelp_restaurants.append({'index': index, \"data\": yelp_response.json()})\n",
    "\n",
    "yelp_restaurants"
   ]
  },
  {
   "cell_type": "code",
   "execution_count": null,
   "metadata": {},
   "outputs": [],
   "source": [
    "# yelp restaurants into a dataframe\n",
    "\n",
    "yelp_restaurant_df = pd.DataFrame()\n",
    "\n",
    "for restaurants in yelp_restaurants:\n",
    "    data = response['data']\n",
    "    \n",
    "    normalized_restaurant_data = pd.json_normalize(data['businesses'])\n",
    "    yelp_restaurant_df = pd.concat([yelp_restaurant_df, normalized_restaurant_data], ignore_index=True)\n",
    "\n",
    "yelp_restaurant_df"
   ]
  },
  {
   "cell_type": "code",
   "execution_count": null,
   "metadata": {},
   "outputs": [],
   "source": [
    "# sort dataframe ordered by best rating\n",
    "\n",
    "yelp_restaurant_df_sorted = yelp_restaurant_df.sort_values(by='rating', ascending=False)\n",
    "print(yelp_df_sorted)"
   ]
  },
  {
   "cell_type": "markdown",
   "metadata": {},
   "source": [
    "Extra: Since I was unable to do restaurant, here are the top 10 museums sorted by rating in Barcelona from the Yelp API"
   ]
  },
  {
   "cell_type": "code",
   "execution_count": 20,
   "metadata": {
    "tags": []
   },
   "outputs": [],
   "source": [
    "# read the saved .json file\n",
    "\n",
    "import pandas as pd\n",
    "import json\n",
    "\n",
    "file_path = 'C:/users/ellis/Lighthouse Labs/Lighthouse Tests +Projects/Statistical Modelling with Python/yelp_output.json'\n",
    "\n",
    "with open(file_path, 'r') as file:\n",
    "    json_data = json.load(file)"
   ]
  },
  {
   "cell_type": "code",
   "execution_count": 73,
   "metadata": {
    "tags": []
   },
   "outputs": [],
   "source": [
    "# create dataframe from the .json file\n",
    "\n",
    "venue_num = 0\n",
    "ratings = []\n",
    "names = []\n",
    "reviews = []\n",
    "\n",
    "for bike_stop in json_data:\n",
    "    try: \n",
    "        for venue in bike_stop['data']['businesses']:\n",
    "            venue_num += 1\n",
    "            rating = venue['rating']\n",
    "            ratings.append(rating)\n",
    "            name = venue['name']\n",
    "            names.append(name)\n",
    "            review = venue['review_count']\n",
    "            reviews.append(review)\n",
    "    except (KeyError, IndexError):\n",
    "        ratings.append(None)\n",
    "        names.append(None)\n",
    "        reviews.append(None)\n",
    "\n",
    "df = pd.DataFrame({'Name': names, 'Rating': ratings, 'Review_num': reviews})\n",
    "unique_df = df.drop_duplicates(subset=['Name'], keep='first')"
   ]
  },
  {
   "cell_type": "code",
   "execution_count": 74,
   "metadata": {
    "tags": []
   },
   "outputs": [
    {
     "data": {
      "text/html": [
       "<div>\n",
       "<style scoped>\n",
       "    .dataframe tbody tr th:only-of-type {\n",
       "        vertical-align: middle;\n",
       "    }\n",
       "\n",
       "    .dataframe tbody tr th {\n",
       "        vertical-align: top;\n",
       "    }\n",
       "\n",
       "    .dataframe thead th {\n",
       "        text-align: right;\n",
       "    }\n",
       "</style>\n",
       "<table border=\"1\" class=\"dataframe\">\n",
       "  <thead>\n",
       "    <tr style=\"text-align: right;\">\n",
       "      <th></th>\n",
       "      <th>Name</th>\n",
       "      <th>Rating</th>\n",
       "      <th>Review_num</th>\n",
       "    </tr>\n",
       "  </thead>\n",
       "  <tbody>\n",
       "    <tr>\n",
       "      <th>16</th>\n",
       "      <td>Hi This Is Barcelona</td>\n",
       "      <td>5.0</td>\n",
       "      <td>18.0</td>\n",
       "    </tr>\n",
       "    <tr>\n",
       "      <th>1</th>\n",
       "      <td>El Gat de Botero</td>\n",
       "      <td>5.0</td>\n",
       "      <td>14.0</td>\n",
       "    </tr>\n",
       "    <tr>\n",
       "      <th>10</th>\n",
       "      <td>Spanish Trails</td>\n",
       "      <td>5.0</td>\n",
       "      <td>9.0</td>\n",
       "    </tr>\n",
       "    <tr>\n",
       "      <th>109</th>\n",
       "      <td>Hash Marihuana Cáñamo &amp; Hemp Museum</td>\n",
       "      <td>5.0</td>\n",
       "      <td>5.0</td>\n",
       "    </tr>\n",
       "    <tr>\n",
       "      <th>17</th>\n",
       "      <td>Antiga Sinagoga Major de Barcelona</td>\n",
       "      <td>5.0</td>\n",
       "      <td>4.0</td>\n",
       "    </tr>\n",
       "    <tr>\n",
       "      <th>45</th>\n",
       "      <td>Can Framis</td>\n",
       "      <td>5.0</td>\n",
       "      <td>3.0</td>\n",
       "    </tr>\n",
       "    <tr>\n",
       "      <th>21</th>\n",
       "      <td>Museo de la Musica</td>\n",
       "      <td>5.0</td>\n",
       "      <td>1.0</td>\n",
       "    </tr>\n",
       "    <tr>\n",
       "      <th>6</th>\n",
       "      <td>Basílica de la Sagrada Família</td>\n",
       "      <td>4.5</td>\n",
       "      <td>1136.0</td>\n",
       "    </tr>\n",
       "    <tr>\n",
       "      <th>36</th>\n",
       "      <td>Casa Batlló</td>\n",
       "      <td>4.5</td>\n",
       "      <td>348.0</td>\n",
       "    </tr>\n",
       "    <tr>\n",
       "      <th>23</th>\n",
       "      <td>La Pedrera - Casa Milà</td>\n",
       "      <td>4.5</td>\n",
       "      <td>263.0</td>\n",
       "    </tr>\n",
       "  </tbody>\n",
       "</table>\n",
       "</div>"
      ],
      "text/plain": [
       "                                    Name  Rating  Review_num\n",
       "16                  Hi This Is Barcelona     5.0        18.0\n",
       "1                       El Gat de Botero     5.0        14.0\n",
       "10                        Spanish Trails     5.0         9.0\n",
       "109  Hash Marihuana Cáñamo & Hemp Museum     5.0         5.0\n",
       "17    Antiga Sinagoga Major de Barcelona     5.0         4.0\n",
       "45                            Can Framis     5.0         3.0\n",
       "21                    Museo de la Musica     5.0         1.0\n",
       "6         Basílica de la Sagrada Família     4.5      1136.0\n",
       "36                           Casa Batlló     4.5       348.0\n",
       "23                La Pedrera - Casa Milà     4.5       263.0"
      ]
     },
     "execution_count": 74,
     "metadata": {},
     "output_type": "execute_result"
    }
   ],
   "source": [
    "# strictly highest rating museums in barcelona\n",
    "\n",
    "top_museums_rating = unique_df.sort_values(by=['Rating', 'Review_num'], ascending=[False, False]).head(10)\n",
    "top_museums_rating"
   ]
  },
  {
   "cell_type": "code",
   "execution_count": 76,
   "metadata": {
    "tags": []
   },
   "outputs": [
    {
     "data": {
      "text/html": [
       "<div>\n",
       "<style scoped>\n",
       "    .dataframe tbody tr th:only-of-type {\n",
       "        vertical-align: middle;\n",
       "    }\n",
       "\n",
       "    .dataframe tbody tr th {\n",
       "        vertical-align: top;\n",
       "    }\n",
       "\n",
       "    .dataframe thead th {\n",
       "        text-align: right;\n",
       "    }\n",
       "</style>\n",
       "<table border=\"1\" class=\"dataframe\">\n",
       "  <thead>\n",
       "    <tr style=\"text-align: right;\">\n",
       "      <th></th>\n",
       "      <th>Name</th>\n",
       "      <th>Rating</th>\n",
       "      <th>Review_num</th>\n",
       "    </tr>\n",
       "  </thead>\n",
       "  <tbody>\n",
       "    <tr>\n",
       "      <th>6</th>\n",
       "      <td>Basílica de la Sagrada Família</td>\n",
       "      <td>4.5</td>\n",
       "      <td>1136.0</td>\n",
       "    </tr>\n",
       "    <tr>\n",
       "      <th>36</th>\n",
       "      <td>Casa Batlló</td>\n",
       "      <td>4.5</td>\n",
       "      <td>348.0</td>\n",
       "    </tr>\n",
       "    <tr>\n",
       "      <th>23</th>\n",
       "      <td>La Pedrera - Casa Milà</td>\n",
       "      <td>4.5</td>\n",
       "      <td>263.0</td>\n",
       "    </tr>\n",
       "    <tr>\n",
       "      <th>29</th>\n",
       "      <td>Camp Nou</td>\n",
       "      <td>4.5</td>\n",
       "      <td>238.0</td>\n",
       "    </tr>\n",
       "    <tr>\n",
       "      <th>116</th>\n",
       "      <td>Font Màgica de Montjuïc</td>\n",
       "      <td>4.5</td>\n",
       "      <td>164.0</td>\n",
       "    </tr>\n",
       "    <tr>\n",
       "      <th>43</th>\n",
       "      <td>Palau de la Música Catalana</td>\n",
       "      <td>4.5</td>\n",
       "      <td>132.0</td>\n",
       "    </tr>\n",
       "    <tr>\n",
       "      <th>7</th>\n",
       "      <td>Catedral de Barcelona</td>\n",
       "      <td>4.5</td>\n",
       "      <td>120.0</td>\n",
       "    </tr>\n",
       "    <tr>\n",
       "      <th>60</th>\n",
       "      <td>Arc de Triomf</td>\n",
       "      <td>4.0</td>\n",
       "      <td>81.0</td>\n",
       "    </tr>\n",
       "    <tr>\n",
       "      <th>28</th>\n",
       "      <td>Barri Gòtic</td>\n",
       "      <td>4.5</td>\n",
       "      <td>71.0</td>\n",
       "    </tr>\n",
       "    <tr>\n",
       "      <th>54</th>\n",
       "      <td>MACBA - Museu d'Art Contemporani de Barcelona</td>\n",
       "      <td>3.5</td>\n",
       "      <td>55.0</td>\n",
       "    </tr>\n",
       "  </tbody>\n",
       "</table>\n",
       "</div>"
      ],
      "text/plain": [
       "                                              Name  Rating  Review_num\n",
       "6                   Basílica de la Sagrada Família     4.5      1136.0\n",
       "36                                     Casa Batlló     4.5       348.0\n",
       "23                          La Pedrera - Casa Milà     4.5       263.0\n",
       "29                                        Camp Nou     4.5       238.0\n",
       "116                        Font Màgica de Montjuïc     4.5       164.0\n",
       "43                     Palau de la Música Catalana     4.5       132.0\n",
       "7                            Catedral de Barcelona     4.5       120.0\n",
       "60                                   Arc de Triomf     4.0        81.0\n",
       "28                                     Barri Gòtic     4.5        71.0\n",
       "54   MACBA - Museu d'Art Contemporani de Barcelona     3.5        55.0"
      ]
     },
     "execution_count": 76,
     "metadata": {},
     "output_type": "execute_result"
    }
   ],
   "source": [
    "# most reviews - may have more importance compared to highest 5 star ratings\n",
    "\n",
    "top_museum_reviews = unique_df.sort_values(by=['Review_num', 'Rating'], ascending=[False, False]).head(10)\n",
    "top_museum_reviews"
   ]
  }
 ],
 "metadata": {
  "kernelspec": {
   "display_name": "Python 3 (ipykernel)",
   "language": "python",
   "name": "python3"
  },
  "language_info": {
   "codemirror_mode": {
    "name": "ipython",
    "version": 3
   },
   "file_extension": ".py",
   "mimetype": "text/x-python",
   "name": "python",
   "nbconvert_exporter": "python",
   "pygments_lexer": "ipython3",
   "version": "3.11.5"
  }
 },
 "nbformat": 4,
 "nbformat_minor": 4
}
